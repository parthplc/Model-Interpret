{
 "cells": [
  {
   "cell_type": "markdown",
   "metadata": {
    "colab_type": "text",
    "id": "LgSzX-nVxwkV"
   },
   "source": [
    "Here is a simpler example of the use of LIME for image classification by using Keras (v2 or greater)"
   ]
  },
  {
   "cell_type": "code",
   "execution_count": 1,
   "metadata": {
    "colab": {
     "base_uri": "https://localhost:8080/",
     "height": 54
    },
    "colab_type": "code",
    "id": "_KS7nU0axwkY",
    "outputId": "21a4f2b5-120c-40bd-8ea1-b73edd8bce0a"
   },
   "outputs": [
    {
     "name": "stderr",
     "output_type": "stream",
     "text": [
      "Using TensorFlow backend.\n"
     ]
    },
    {
     "name": "stdout",
     "output_type": "stream",
     "text": [
      "Notebook run using keras: 2.3.1\n"
     ]
    }
   ],
   "source": [
    "import os\n",
    "import keras\n",
    "from keras.applications import inception_v3 as inc_net\n",
    "from keras.preprocessing import image\n",
    "from keras.applications.imagenet_utils import decode_predictions\n",
    "from skimage.io import imread\n",
    "import matplotlib.pyplot as plt\n",
    "%matplotlib inline\n",
    "import numpy as np\n",
    "print('Notebook run using keras:', keras.__version__)"
   ]
  },
  {
   "cell_type": "markdown",
   "metadata": {
    "colab_type": "text",
    "id": "w-eyXVAHxwkj"
   },
   "source": [
    "# Using Inception\n",
    "Here we create a standard InceptionV3 pretrained model and use it on images by first preprocessing them with the preprocessing tools"
   ]
  },
  {
   "cell_type": "code",
   "execution_count": 2,
   "metadata": {},
   "outputs": [],
   "source": [
    "from tensorflow import keras"
   ]
  },
  {
   "cell_type": "code",
   "execution_count": 3,
   "metadata": {
    "colab": {
     "base_uri": "https://localhost:8080/",
     "height": 74
    },
    "colab_type": "code",
    "id": "GF8hPe1Rxwkl",
    "outputId": "fdbae3ad-ddfc-409c-bd3d-3ed8ead94a25"
   },
   "outputs": [
    {
     "name": "stderr",
     "output_type": "stream",
     "text": [
      "ERROR:root:Internal Python error in the inspect module.\n",
      "Below is the traceback from this internal error.\n",
      "\n",
      "ERROR:root:Internal Python error in the inspect module.\n",
      "Below is the traceback from this internal error.\n",
      "\n",
      "ERROR:root:Internal Python error in the inspect module.\n",
      "Below is the traceback from this internal error.\n",
      "\n"
     ]
    },
    {
     "name": "stdout",
     "output_type": "stream",
     "text": [
      "Traceback (most recent call last):\n",
      "  File \"c:\\Users\\Parth.chokhra\\Miniconda3\\envs\\workflowone\\lib\\site-packages\\IPython\\core\\interactiveshell.py\", line 3552, in run_code\n",
      "    exec(code_obj, self.user_global_ns, self.user_ns)\n",
      "  File \"C:\\Users\\Parth.chokhra\\AppData\\Local\\Temp\\ipykernel_11928\\3954877171.py\", line 1, in <module>\n",
      "    inet_model =keras.applications.inception_v3.InceptionV3()\n",
      "  File \"c:\\Users\\Parth.chokhra\\Miniconda3\\envs\\workflowone\\lib\\site-packages\\tensorflow_core\\python\\keras\\applications\\__init__.py\", line 46, in wrapper\n",
      "    return base_fun(*args, **kwargs)\n",
      "  File \"c:\\Users\\Parth.chokhra\\Miniconda3\\envs\\workflowone\\lib\\site-packages\\tensorflow_core\\python\\keras\\applications\\inception_v3.py\", line 32, in InceptionV3\n",
      "    return inception_v3.InceptionV3(*args, **kwargs)\n",
      "  File \"c:\\Users\\Parth.chokhra\\Miniconda3\\envs\\workflowone\\lib\\site-packages\\keras_applications\\inception_v3.py\", line 391, in InceptionV3\n",
      "    model.load_weights(weights_path)\n",
      "  File \"c:\\Users\\Parth.chokhra\\Miniconda3\\envs\\workflowone\\lib\\site-packages\\tensorflow_core\\python\\keras\\engine\\training.py\", line 234, in load_weights\n",
      "    return super(Model, self).load_weights(filepath, by_name, skip_mismatch)\n",
      "  File \"c:\\Users\\Parth.chokhra\\Miniconda3\\envs\\workflowone\\lib\\site-packages\\tensorflow_core\\python\\keras\\engine\\network.py\", line 1222, in load_weights\n",
      "    hdf5_format.load_weights_from_hdf5_group(f, self.layers)\n",
      "  File \"c:\\Users\\Parth.chokhra\\Miniconda3\\envs\\workflowone\\lib\\site-packages\\tensorflow_core\\python\\keras\\saving\\hdf5_format.py\", line 651, in load_weights_from_hdf5_group\n",
      "    original_keras_version = f.attrs['keras_version'].decode('utf8')\n",
      "AttributeError: 'str' object has no attribute 'decode'\n",
      "\n",
      "During handling of the above exception, another exception occurred:\n",
      "\n",
      "Traceback (most recent call last):\n",
      "  File \"c:\\Users\\Parth.chokhra\\Miniconda3\\envs\\workflowone\\lib\\site-packages\\IPython\\core\\interactiveshell.py\", line 2098, in showtraceback\n",
      "    stb = value._render_traceback_()\n",
      "AttributeError: 'AttributeError' object has no attribute '_render_traceback_'\n",
      "\n",
      "During handling of the above exception, another exception occurred:\n",
      "\n",
      "Traceback (most recent call last):\n",
      "  File \"c:\\Users\\Parth.chokhra\\Miniconda3\\envs\\workflowone\\lib\\site-packages\\IPython\\core\\ultratb.py\", line 1101, in get_records\n",
      "    return _fixed_getinnerframes(etb, number_of_lines_of_context, tb_offset)\n",
      "  File \"c:\\Users\\Parth.chokhra\\Miniconda3\\envs\\workflowone\\lib\\site-packages\\IPython\\core\\ultratb.py\", line 248, in wrapped\n",
      "    return f(*args, **kwargs)\n",
      "  File \"c:\\Users\\Parth.chokhra\\Miniconda3\\envs\\workflowone\\lib\\site-packages\\IPython\\core\\ultratb.py\", line 281, in _fixed_getinnerframes\n",
      "    records = fix_frame_records_filenames(inspect.getinnerframes(etb, context))\n",
      "  File \"c:\\Users\\Parth.chokhra\\Miniconda3\\envs\\workflowone\\lib\\inspect.py\", line 1502, in getinnerframes\n",
      "    frameinfo = (tb.tb_frame,) + getframeinfo(tb, context)\n",
      "  File \"c:\\Users\\Parth.chokhra\\Miniconda3\\envs\\workflowone\\lib\\inspect.py\", line 1460, in getframeinfo\n",
      "    filename = getsourcefile(frame) or getfile(frame)\n",
      "  File \"c:\\Users\\Parth.chokhra\\Miniconda3\\envs\\workflowone\\lib\\inspect.py\", line 696, in getsourcefile\n",
      "    if getattr(getmodule(object, filename), '__loader__', None) is not None:\n",
      "  File \"c:\\Users\\Parth.chokhra\\Miniconda3\\envs\\workflowone\\lib\\inspect.py\", line 733, in getmodule\n",
      "    if ismodule(module) and hasattr(module, '__file__'):\n",
      "  File \"c:\\Users\\Parth.chokhra\\Miniconda3\\envs\\workflowone\\lib\\site-packages\\tensorflow\\__init__.py\", line 50, in __getattr__\n",
      "    module = self._load()\n",
      "  File \"c:\\Users\\Parth.chokhra\\Miniconda3\\envs\\workflowone\\lib\\site-packages\\tensorflow\\__init__.py\", line 44, in _load\n",
      "    module = _importlib.import_module(self.__name__)\n",
      "  File \"c:\\Users\\Parth.chokhra\\Miniconda3\\envs\\workflowone\\lib\\importlib\\__init__.py\", line 127, in import_module\n",
      "    return _bootstrap._gcd_import(name[level:], package, level)\n",
      "  File \"<frozen importlib._bootstrap>\", line 1006, in _gcd_import\n",
      "  File \"<frozen importlib._bootstrap>\", line 983, in _find_and_load\n",
      "  File \"<frozen importlib._bootstrap>\", line 965, in _find_and_load_unlocked\n",
      "ModuleNotFoundError: No module named 'tensorflow_core.estimator'\n",
      "Traceback (most recent call last):\n",
      "  File \"c:\\Users\\Parth.chokhra\\Miniconda3\\envs\\workflowone\\lib\\site-packages\\IPython\\core\\interactiveshell.py\", line 3552, in run_code\n",
      "    exec(code_obj, self.user_global_ns, self.user_ns)\n",
      "  File \"C:\\Users\\Parth.chokhra\\AppData\\Local\\Temp\\ipykernel_11928\\3954877171.py\", line 1, in <module>\n",
      "    inet_model =keras.applications.inception_v3.InceptionV3()\n",
      "  File \"c:\\Users\\Parth.chokhra\\Miniconda3\\envs\\workflowone\\lib\\site-packages\\tensorflow_core\\python\\keras\\applications\\__init__.py\", line 46, in wrapper\n",
      "    return base_fun(*args, **kwargs)\n",
      "  File \"c:\\Users\\Parth.chokhra\\Miniconda3\\envs\\workflowone\\lib\\site-packages\\tensorflow_core\\python\\keras\\applications\\inception_v3.py\", line 32, in InceptionV3\n",
      "    return inception_v3.InceptionV3(*args, **kwargs)\n",
      "  File \"c:\\Users\\Parth.chokhra\\Miniconda3\\envs\\workflowone\\lib\\site-packages\\keras_applications\\inception_v3.py\", line 391, in InceptionV3\n",
      "    model.load_weights(weights_path)\n",
      "  File \"c:\\Users\\Parth.chokhra\\Miniconda3\\envs\\workflowone\\lib\\site-packages\\tensorflow_core\\python\\keras\\engine\\training.py\", line 234, in load_weights\n",
      "    return super(Model, self).load_weights(filepath, by_name, skip_mismatch)\n",
      "  File \"c:\\Users\\Parth.chokhra\\Miniconda3\\envs\\workflowone\\lib\\site-packages\\tensorflow_core\\python\\keras\\engine\\network.py\", line 1222, in load_weights\n",
      "    hdf5_format.load_weights_from_hdf5_group(f, self.layers)\n",
      "  File \"c:\\Users\\Parth.chokhra\\Miniconda3\\envs\\workflowone\\lib\\site-packages\\tensorflow_core\\python\\keras\\saving\\hdf5_format.py\", line 651, in load_weights_from_hdf5_group\n",
      "    original_keras_version = f.attrs['keras_version'].decode('utf8')\n",
      "AttributeError: 'str' object has no attribute 'decode'\n",
      "\n",
      "During handling of the above exception, another exception occurred:\n",
      "\n",
      "Traceback (most recent call last):\n",
      "  File \"c:\\Users\\Parth.chokhra\\Miniconda3\\envs\\workflowone\\lib\\site-packages\\IPython\\core\\interactiveshell.py\", line 2098, in showtraceback\n",
      "    stb = value._render_traceback_()\n",
      "AttributeError: 'AttributeError' object has no attribute '_render_traceback_'\n",
      "\n",
      "During handling of the above exception, another exception occurred:\n",
      "\n",
      "Traceback (most recent call last):\n",
      "  File \"c:\\Users\\Parth.chokhra\\Miniconda3\\envs\\workflowone\\lib\\site-packages\\IPython\\core\\interactiveshell.py\", line 3472, in run_ast_nodes\n",
      "    if (await self.run_code(code, result,  async_=asy)):\n",
      "  File \"c:\\Users\\Parth.chokhra\\Miniconda3\\envs\\workflowone\\lib\\site-packages\\IPython\\core\\interactiveshell.py\", line 3569, in run_code\n",
      "    self.showtraceback(running_compiled_code=True)\n",
      "  File \"c:\\Users\\Parth.chokhra\\Miniconda3\\envs\\workflowone\\lib\\site-packages\\IPython\\core\\interactiveshell.py\", line 2101, in showtraceback\n",
      "    value, tb, tb_offset=tb_offset)\n",
      "  File \"c:\\Users\\Parth.chokhra\\Miniconda3\\envs\\workflowone\\lib\\site-packages\\IPython\\core\\ultratb.py\", line 1368, in structured_traceback\n",
      "    self, etype, value, tb, tb_offset, number_of_lines_of_context)\n",
      "  File \"c:\\Users\\Parth.chokhra\\Miniconda3\\envs\\workflowone\\lib\\site-packages\\IPython\\core\\ultratb.py\", line 1268, in structured_traceback\n",
      "    self, etype, value, tb, tb_offset, number_of_lines_of_context\n",
      "  File \"c:\\Users\\Parth.chokhra\\Miniconda3\\envs\\workflowone\\lib\\site-packages\\IPython\\core\\ultratb.py\", line 1125, in structured_traceback\n",
      "    tb_offset)\n",
      "  File \"c:\\Users\\Parth.chokhra\\Miniconda3\\envs\\workflowone\\lib\\site-packages\\IPython\\core\\ultratb.py\", line 1082, in format_exception_as_a_whole\n",
      "    last_unique, recursion_repeat = find_recursion(orig_etype, evalue, records)\n",
      "  File \"c:\\Users\\Parth.chokhra\\Miniconda3\\envs\\workflowone\\lib\\site-packages\\IPython\\core\\ultratb.py\", line 382, in find_recursion\n",
      "    return len(records), 0\n",
      "TypeError: object of type 'NoneType' has no len()\n",
      "\n",
      "During handling of the above exception, another exception occurred:\n",
      "\n",
      "Traceback (most recent call last):\n",
      "  File \"c:\\Users\\Parth.chokhra\\Miniconda3\\envs\\workflowone\\lib\\site-packages\\IPython\\core\\interactiveshell.py\", line 2098, in showtraceback\n",
      "    stb = value._render_traceback_()\n",
      "AttributeError: 'TypeError' object has no attribute '_render_traceback_'\n",
      "\n",
      "During handling of the above exception, another exception occurred:\n",
      "\n",
      "Traceback (most recent call last):\n",
      "  File \"c:\\Users\\Parth.chokhra\\Miniconda3\\envs\\workflowone\\lib\\site-packages\\IPython\\core\\ultratb.py\", line 1101, in get_records\n",
      "    return _fixed_getinnerframes(etb, number_of_lines_of_context, tb_offset)\n",
      "  File \"c:\\Users\\Parth.chokhra\\Miniconda3\\envs\\workflowone\\lib\\site-packages\\IPython\\core\\ultratb.py\", line 248, in wrapped\n",
      "    return f(*args, **kwargs)\n",
      "  File \"c:\\Users\\Parth.chokhra\\Miniconda3\\envs\\workflowone\\lib\\site-packages\\IPython\\core\\ultratb.py\", line 281, in _fixed_getinnerframes\n",
      "    records = fix_frame_records_filenames(inspect.getinnerframes(etb, context))\n",
      "  File \"c:\\Users\\Parth.chokhra\\Miniconda3\\envs\\workflowone\\lib\\inspect.py\", line 1502, in getinnerframes\n",
      "    frameinfo = (tb.tb_frame,) + getframeinfo(tb, context)\n",
      "  File \"c:\\Users\\Parth.chokhra\\Miniconda3\\envs\\workflowone\\lib\\inspect.py\", line 1460, in getframeinfo\n",
      "    filename = getsourcefile(frame) or getfile(frame)\n",
      "  File \"c:\\Users\\Parth.chokhra\\Miniconda3\\envs\\workflowone\\lib\\inspect.py\", line 696, in getsourcefile\n",
      "    if getattr(getmodule(object, filename), '__loader__', None) is not None:\n",
      "  File \"c:\\Users\\Parth.chokhra\\Miniconda3\\envs\\workflowone\\lib\\inspect.py\", line 733, in getmodule\n",
      "    if ismodule(module) and hasattr(module, '__file__'):\n",
      "  File \"c:\\Users\\Parth.chokhra\\Miniconda3\\envs\\workflowone\\lib\\site-packages\\tensorflow\\__init__.py\", line 50, in __getattr__\n",
      "    module = self._load()\n",
      "  File \"c:\\Users\\Parth.chokhra\\Miniconda3\\envs\\workflowone\\lib\\site-packages\\tensorflow\\__init__.py\", line 44, in _load\n",
      "    module = _importlib.import_module(self.__name__)\n",
      "  File \"c:\\Users\\Parth.chokhra\\Miniconda3\\envs\\workflowone\\lib\\importlib\\__init__.py\", line 127, in import_module\n",
      "    return _bootstrap._gcd_import(name[level:], package, level)\n",
      "  File \"<frozen importlib._bootstrap>\", line 1006, in _gcd_import\n",
      "  File \"<frozen importlib._bootstrap>\", line 983, in _find_and_load\n",
      "  File \"<frozen importlib._bootstrap>\", line 965, in _find_and_load_unlocked\n",
      "ModuleNotFoundError: No module named 'tensorflow_core.estimator'\n",
      "Traceback (most recent call last):\n",
      "  File \"c:\\Users\\Parth.chokhra\\Miniconda3\\envs\\workflowone\\lib\\site-packages\\IPython\\core\\interactiveshell.py\", line 3552, in run_code\n",
      "    exec(code_obj, self.user_global_ns, self.user_ns)\n",
      "  File \"C:\\Users\\Parth.chokhra\\AppData\\Local\\Temp\\ipykernel_11928\\3954877171.py\", line 1, in <module>\n",
      "    inet_model =keras.applications.inception_v3.InceptionV3()\n",
      "  File \"c:\\Users\\Parth.chokhra\\Miniconda3\\envs\\workflowone\\lib\\site-packages\\tensorflow_core\\python\\keras\\applications\\__init__.py\", line 46, in wrapper\n",
      "    return base_fun(*args, **kwargs)\n",
      "  File \"c:\\Users\\Parth.chokhra\\Miniconda3\\envs\\workflowone\\lib\\site-packages\\tensorflow_core\\python\\keras\\applications\\inception_v3.py\", line 32, in InceptionV3\n",
      "    return inception_v3.InceptionV3(*args, **kwargs)\n",
      "  File \"c:\\Users\\Parth.chokhra\\Miniconda3\\envs\\workflowone\\lib\\site-packages\\keras_applications\\inception_v3.py\", line 391, in InceptionV3\n",
      "    model.load_weights(weights_path)\n",
      "  File \"c:\\Users\\Parth.chokhra\\Miniconda3\\envs\\workflowone\\lib\\site-packages\\tensorflow_core\\python\\keras\\engine\\training.py\", line 234, in load_weights\n",
      "    return super(Model, self).load_weights(filepath, by_name, skip_mismatch)\n",
      "  File \"c:\\Users\\Parth.chokhra\\Miniconda3\\envs\\workflowone\\lib\\site-packages\\tensorflow_core\\python\\keras\\engine\\network.py\", line 1222, in load_weights\n",
      "    hdf5_format.load_weights_from_hdf5_group(f, self.layers)\n",
      "  File \"c:\\Users\\Parth.chokhra\\Miniconda3\\envs\\workflowone\\lib\\site-packages\\tensorflow_core\\python\\keras\\saving\\hdf5_format.py\", line 651, in load_weights_from_hdf5_group\n",
      "    original_keras_version = f.attrs['keras_version'].decode('utf8')\n",
      "AttributeError: 'str' object has no attribute 'decode'\n",
      "\n",
      "During handling of the above exception, another exception occurred:\n",
      "\n",
      "Traceback (most recent call last):\n",
      "  File \"c:\\Users\\Parth.chokhra\\Miniconda3\\envs\\workflowone\\lib\\site-packages\\IPython\\core\\interactiveshell.py\", line 2098, in showtraceback\n",
      "    stb = value._render_traceback_()\n",
      "AttributeError: 'AttributeError' object has no attribute '_render_traceback_'\n",
      "\n",
      "During handling of the above exception, another exception occurred:\n",
      "\n",
      "Traceback (most recent call last):\n",
      "  File \"c:\\Users\\Parth.chokhra\\Miniconda3\\envs\\workflowone\\lib\\site-packages\\IPython\\core\\interactiveshell.py\", line 3472, in run_ast_nodes\n",
      "    if (await self.run_code(code, result,  async_=asy)):\n",
      "  File \"c:\\Users\\Parth.chokhra\\Miniconda3\\envs\\workflowone\\lib\\site-packages\\IPython\\core\\interactiveshell.py\", line 3569, in run_code\n",
      "    self.showtraceback(running_compiled_code=True)\n",
      "  File \"c:\\Users\\Parth.chokhra\\Miniconda3\\envs\\workflowone\\lib\\site-packages\\IPython\\core\\interactiveshell.py\", line 2101, in showtraceback\n",
      "    value, tb, tb_offset=tb_offset)\n",
      "  File \"c:\\Users\\Parth.chokhra\\Miniconda3\\envs\\workflowone\\lib\\site-packages\\IPython\\core\\ultratb.py\", line 1368, in structured_traceback\n",
      "    self, etype, value, tb, tb_offset, number_of_lines_of_context)\n",
      "  File \"c:\\Users\\Parth.chokhra\\Miniconda3\\envs\\workflowone\\lib\\site-packages\\IPython\\core\\ultratb.py\", line 1268, in structured_traceback\n",
      "    self, etype, value, tb, tb_offset, number_of_lines_of_context\n",
      "  File \"c:\\Users\\Parth.chokhra\\Miniconda3\\envs\\workflowone\\lib\\site-packages\\IPython\\core\\ultratb.py\", line 1125, in structured_traceback\n",
      "    tb_offset)\n",
      "  File \"c:\\Users\\Parth.chokhra\\Miniconda3\\envs\\workflowone\\lib\\site-packages\\IPython\\core\\ultratb.py\", line 1082, in format_exception_as_a_whole\n",
      "    last_unique, recursion_repeat = find_recursion(orig_etype, evalue, records)\n",
      "  File \"c:\\Users\\Parth.chokhra\\Miniconda3\\envs\\workflowone\\lib\\site-packages\\IPython\\core\\ultratb.py\", line 382, in find_recursion\n",
      "    return len(records), 0\n",
      "TypeError: object of type 'NoneType' has no len()\n",
      "\n",
      "During handling of the above exception, another exception occurred:\n",
      "\n",
      "Traceback (most recent call last):\n",
      "  File \"c:\\Users\\Parth.chokhra\\Miniconda3\\envs\\workflowone\\lib\\site-packages\\IPython\\core\\interactiveshell.py\", line 2098, in showtraceback\n",
      "    stb = value._render_traceback_()\n",
      "AttributeError: 'TypeError' object has no attribute '_render_traceback_'\n",
      "\n",
      "During handling of the above exception, another exception occurred:\n",
      "\n",
      "Traceback (most recent call last):\n",
      "  File \"c:\\Users\\Parth.chokhra\\Miniconda3\\envs\\workflowone\\lib\\site-packages\\IPython\\core\\interactiveshell.py\", line 3029, in _run_cell\n",
      "    return runner(coro)\n",
      "  File \"c:\\Users\\Parth.chokhra\\Miniconda3\\envs\\workflowone\\lib\\site-packages\\IPython\\core\\async_helpers.py\", line 78, in _pseudo_sync_runner\n",
      "    coro.send(None)\n",
      "  File \"c:\\Users\\Parth.chokhra\\Miniconda3\\envs\\workflowone\\lib\\site-packages\\IPython\\core\\interactiveshell.py\", line 3257, in run_cell_async\n",
      "    interactivity=interactivity, compiler=compiler, result=result)\n",
      "  File \"c:\\Users\\Parth.chokhra\\Miniconda3\\envs\\workflowone\\lib\\site-packages\\IPython\\core\\interactiveshell.py\", line 3491, in run_ast_nodes\n",
      "    self.showtraceback()\n",
      "  File \"c:\\Users\\Parth.chokhra\\Miniconda3\\envs\\workflowone\\lib\\site-packages\\IPython\\core\\interactiveshell.py\", line 2101, in showtraceback\n",
      "    value, tb, tb_offset=tb_offset)\n",
      "  File \"c:\\Users\\Parth.chokhra\\Miniconda3\\envs\\workflowone\\lib\\site-packages\\IPython\\core\\ultratb.py\", line 1368, in structured_traceback\n",
      "    self, etype, value, tb, tb_offset, number_of_lines_of_context)\n",
      "  File \"c:\\Users\\Parth.chokhra\\Miniconda3\\envs\\workflowone\\lib\\site-packages\\IPython\\core\\ultratb.py\", line 1268, in structured_traceback\n",
      "    self, etype, value, tb, tb_offset, number_of_lines_of_context\n",
      "  File \"c:\\Users\\Parth.chokhra\\Miniconda3\\envs\\workflowone\\lib\\site-packages\\IPython\\core\\ultratb.py\", line 1143, in structured_traceback\n",
      "    chained_exceptions_tb_offset)\n",
      "  File \"c:\\Users\\Parth.chokhra\\Miniconda3\\envs\\workflowone\\lib\\site-packages\\IPython\\core\\ultratb.py\", line 1082, in format_exception_as_a_whole\n",
      "    last_unique, recursion_repeat = find_recursion(orig_etype, evalue, records)\n",
      "  File \"c:\\Users\\Parth.chokhra\\Miniconda3\\envs\\workflowone\\lib\\site-packages\\IPython\\core\\ultratb.py\", line 382, in find_recursion\n",
      "    return len(records), 0\n",
      "TypeError: object of type 'NoneType' has no len()\n",
      "\n",
      "During handling of the above exception, another exception occurred:\n",
      "\n",
      "Traceback (most recent call last):\n",
      "  File \"c:\\Users\\Parth.chokhra\\Miniconda3\\envs\\workflowone\\lib\\site-packages\\IPython\\core\\interactiveshell.py\", line 2098, in showtraceback\n",
      "    stb = value._render_traceback_()\n",
      "AttributeError: 'TypeError' object has no attribute '_render_traceback_'\n",
      "\n",
      "During handling of the above exception, another exception occurred:\n",
      "\n",
      "Traceback (most recent call last):\n",
      "  File \"c:\\Users\\Parth.chokhra\\Miniconda3\\envs\\workflowone\\lib\\site-packages\\IPython\\core\\ultratb.py\", line 1101, in get_records\n",
      "    return _fixed_getinnerframes(etb, number_of_lines_of_context, tb_offset)\n",
      "  File \"c:\\Users\\Parth.chokhra\\Miniconda3\\envs\\workflowone\\lib\\site-packages\\IPython\\core\\ultratb.py\", line 248, in wrapped\n",
      "    return f(*args, **kwargs)\n",
      "  File \"c:\\Users\\Parth.chokhra\\Miniconda3\\envs\\workflowone\\lib\\site-packages\\IPython\\core\\ultratb.py\", line 281, in _fixed_getinnerframes\n",
      "    records = fix_frame_records_filenames(inspect.getinnerframes(etb, context))\n",
      "  File \"c:\\Users\\Parth.chokhra\\Miniconda3\\envs\\workflowone\\lib\\inspect.py\", line 1502, in getinnerframes\n",
      "    frameinfo = (tb.tb_frame,) + getframeinfo(tb, context)\n",
      "  File \"c:\\Users\\Parth.chokhra\\Miniconda3\\envs\\workflowone\\lib\\inspect.py\", line 1460, in getframeinfo\n",
      "    filename = getsourcefile(frame) or getfile(frame)\n",
      "  File \"c:\\Users\\Parth.chokhra\\Miniconda3\\envs\\workflowone\\lib\\inspect.py\", line 696, in getsourcefile\n",
      "    if getattr(getmodule(object, filename), '__loader__', None) is not None:\n",
      "  File \"c:\\Users\\Parth.chokhra\\Miniconda3\\envs\\workflowone\\lib\\inspect.py\", line 733, in getmodule\n",
      "    if ismodule(module) and hasattr(module, '__file__'):\n",
      "  File \"c:\\Users\\Parth.chokhra\\Miniconda3\\envs\\workflowone\\lib\\site-packages\\tensorflow\\__init__.py\", line 50, in __getattr__\n",
      "    module = self._load()\n",
      "  File \"c:\\Users\\Parth.chokhra\\Miniconda3\\envs\\workflowone\\lib\\site-packages\\tensorflow\\__init__.py\", line 44, in _load\n",
      "    module = _importlib.import_module(self.__name__)\n",
      "  File \"c:\\Users\\Parth.chokhra\\Miniconda3\\envs\\workflowone\\lib\\importlib\\__init__.py\", line 127, in import_module\n",
      "    return _bootstrap._gcd_import(name[level:], package, level)\n",
      "  File \"<frozen importlib._bootstrap>\", line 1006, in _gcd_import\n",
      "  File \"<frozen importlib._bootstrap>\", line 983, in _find_and_load\n",
      "  File \"<frozen importlib._bootstrap>\", line 965, in _find_and_load_unlocked\n",
      "ModuleNotFoundError: No module named 'tensorflow_core.estimator'\n"
     ]
    }
   ],
   "source": [
    "inet_model =keras.applications.inception_v3.InceptionV3()"
   ]
  },
  {
   "cell_type": "code",
   "execution_count": null,
   "metadata": {
    "colab": {},
    "colab_type": "code",
    "id": "GaQ0zT5Txwks"
   },
   "outputs": [],
   "source": [
    "def transform_img_fn(path_list):\n",
    "    out = []\n",
    "    for img_path in path_list:\n",
    "        img = image.load_img(img_path, target_size=(299, 299))\n",
    "        x = image.img_to_array(img)\n",
    "        x = np.expand_dims(x, axis=0)\n",
    "        x = inc_net.preprocess_input(x)\n",
    "        out.append(x)\n",
    "    return np.vstack(out)"
   ]
  },
  {
   "cell_type": "markdown",
   "metadata": {
    "colab_type": "text",
    "id": "26Le95e5xwk1"
   },
   "source": [
    "## Let's see the top 5 prediction for some image"
   ]
  },
  {
   "cell_type": "code",
   "execution_count": null,
   "metadata": {
    "colab": {
     "base_uri": "https://localhost:8080/",
     "height": 398
    },
    "colab_type": "code",
    "id": "3sxO8vzlxwk2",
    "outputId": "82b2b75b-6bd8-4fab-ea2c-5b365806fb9e",
    "scrolled": false
   },
   "outputs": [],
   "source": [
    "images = transform_img_fn([os.path.join('data','cat_mouse.jpg')])\n",
    "# I'm dividing by 2 and adding 0.5 because of how this Inception represents images\n",
    "plt.imshow(images[0] / 2 + 0.5)\n",
    "preds = inet_model.predict(images)\n",
    "for x in decode_predictions(preds)[0]:\n",
    "    print(x)"
   ]
  },
  {
   "cell_type": "markdown",
   "metadata": {
    "colab_type": "text",
    "collapsed": true,
    "id": "_MCRFeNJxwk9"
   },
   "source": [
    "## Explanation\n",
    "Now let's get an explanation"
   ]
  },
  {
   "cell_type": "code",
   "execution_count": null,
   "metadata": {
    "colab": {
     "base_uri": "https://localhost:8080/",
     "height": 54
    },
    "colab_type": "code",
    "id": "aP6LjonHxwlA",
    "outputId": "07b6f31d-5207-4cf8-e75f-500fb3f8c939"
   },
   "outputs": [],
   "source": [
    "%load_ext autoreload\n",
    "%autoreload 2\n",
    "import os,sys\n",
    "try:\n",
    "    import lime\n",
    "except:\n",
    "    sys.path.append(os.path.join('..', '..')) # add the current directory\n",
    "    import lime\n",
    "from lime import lime_image"
   ]
  },
  {
   "cell_type": "code",
   "execution_count": null,
   "metadata": {
    "colab": {},
    "colab_type": "code",
    "id": "2b7ow1YtxwlH"
   },
   "outputs": [],
   "source": [
    "explainer = lime_image.LimeImageExplainer()"
   ]
  },
  {
   "cell_type": "markdown",
   "metadata": {
    "colab_type": "text",
    "id": "3ADfGCzxxwlO"
   },
   "source": [
    "hide_color is the color for a superpixel turned OFF. Alternatively, if it is NONE, the superpixel will be replaced by the average of its pixels. Here, we set it to 0 (in the representation used by inception model, 0 means gray)"
   ]
  },
  {
   "cell_type": "code",
   "execution_count": null,
   "metadata": {
    "colab": {
     "base_uri": "https://localhost:8080/",
     "height": 104,
     "referenced_widgets": [
      "1fb1b32b563b4cf2bc565e4f150d5886",
      "17bb7656e07842dda40e13da228550c8",
      "3b0b05ed4a1e4a7492bad6d208b005a1",
      "30f68d0a496d4e97a5f9e59b6fce9f5e",
      "bfe238fe53be4860b53021934755f0b1",
      "f7d2484df9f24bceafc1910e361bc03f",
      "059e79101bc04a6dac3d6c8065d5f960",
      "e8a5f1d84d784fe7b75b1b965aec3fb8"
     ]
    },
    "colab_type": "code",
    "id": "1L0lWZ8yxwlQ",
    "outputId": "ee3a3678-bf31-46ba-dec4-e098c9c55eaa"
   },
   "outputs": [],
   "source": [
    "%%time\n",
    "# Hide color is the color for a superpixel turned OFF. Alternatively, if it is NONE, the superpixel will be replaced by the average of its pixels\n",
    "explanation = explainer.explain_instance(images[0].astype('double'), inet_model.predict, top_labels=5, hide_color=0, num_samples=1000)"
   ]
  },
  {
   "cell_type": "markdown",
   "metadata": {
    "colab_type": "text",
    "id": "5XAf25PNxwlY"
   },
   "source": [
    "Image classifiers are a bit slow. Notice that an explanation on my Surface Book dGPU took 1min 12s"
   ]
  },
  {
   "cell_type": "markdown",
   "metadata": {
    "colab_type": "text",
    "id": "uWl908SyxwlZ"
   },
   "source": [
    "### Now let's see the explanation for the top class ( Black Bear)"
   ]
  },
  {
   "cell_type": "markdown",
   "metadata": {
    "colab_type": "text",
    "id": "WXMdU3hwxwla"
   },
   "source": [
    "We can see the top 5 superpixels that are most positive towards the class with the rest of the image hidden"
   ]
  },
  {
   "cell_type": "code",
   "execution_count": null,
   "metadata": {
    "colab": {},
    "colab_type": "code",
    "id": "rgs3IwZnxwlc"
   },
   "outputs": [],
   "source": [
    "from skimage.segmentation import mark_boundaries"
   ]
  },
  {
   "cell_type": "code",
   "execution_count": null,
   "metadata": {
    "colab": {
     "base_uri": "https://localhost:8080/",
     "height": 287
    },
    "colab_type": "code",
    "id": "5LJMsp3Oxwlk",
    "outputId": "64b82262-8a45-4232-e844-2e15c5fc2d09"
   },
   "outputs": [],
   "source": [
    "temp, mask = explanation.get_image_and_mask(explanation.top_labels[0], positive_only=True, num_features=5, hide_rest=True)\n",
    "plt.imshow(mark_boundaries(temp / 2 + 0.5, mask))"
   ]
  },
  {
   "cell_type": "markdown",
   "metadata": {
    "colab_type": "text",
    "id": "aAFdw9oJxwlr"
   },
   "source": [
    "Or with the rest of the image present:"
   ]
  },
  {
   "cell_type": "code",
   "execution_count": null,
   "metadata": {
    "colab": {
     "base_uri": "https://localhost:8080/",
     "height": 287
    },
    "colab_type": "code",
    "id": "-6eei5uQxwls",
    "outputId": "a9f29754-15aa-43a9-a64d-493f1f01dea2"
   },
   "outputs": [],
   "source": [
    "temp, mask = explanation.get_image_and_mask(explanation.top_labels[0], positive_only=True, num_features=5, hide_rest=False)\n",
    "plt.imshow(mark_boundaries(temp / 2 + 0.5, mask))\n"
   ]
  },
  {
   "cell_type": "markdown",
   "metadata": {
    "colab_type": "text",
    "id": "y7aoh_OExwl0"
   },
   "source": [
    "We can also see the 'pros and cons' (pros in green, cons in red)"
   ]
  },
  {
   "cell_type": "code",
   "execution_count": null,
   "metadata": {
    "colab": {
     "base_uri": "https://localhost:8080/",
     "height": 287
    },
    "colab_type": "code",
    "id": "jHow3M4Oxwl1",
    "outputId": "7cc10571-84aa-4e8f-d6cc-80a56cf7d054"
   },
   "outputs": [],
   "source": [
    "temp, mask = explanation.get_image_and_mask(explanation.top_labels[0], positive_only=False, num_features=10, hide_rest=False)\n",
    "plt.imshow(mark_boundaries(temp / 2 + 0.5, mask))"
   ]
  },
  {
   "cell_type": "markdown",
   "metadata": {
    "colab_type": "text",
    "id": "e5FIt55txwl9"
   },
   "source": [
    "Or the pros and cons that have weight at least 0.1"
   ]
  },
  {
   "cell_type": "code",
   "execution_count": null,
   "metadata": {
    "colab": {
     "base_uri": "https://localhost:8080/",
     "height": 287
    },
    "colab_type": "code",
    "id": "ExFQHJw_xwl-",
    "outputId": "2b7e3bfd-5c66-42ef-eaf7-60506b25dbe3"
   },
   "outputs": [],
   "source": [
    "temp, mask = explanation.get_image_and_mask(explanation.top_labels[0], positive_only=False, num_features=1000, hide_rest=False, min_weight=0.1)\n",
    "plt.imshow(mark_boundaries(temp / 2 + 0.5, mask))"
   ]
  },
  {
   "cell_type": "markdown",
   "metadata": {
    "colab_type": "text",
    "id": "R2W22gjS1oiJ"
   },
   "source": [
    "Alternatively, we can also plot explanation weights onto a heatmap visualization. The colorbar shows the values of the weights."
   ]
  },
  {
   "cell_type": "code",
   "execution_count": null,
   "metadata": {
    "colab": {
     "base_uri": "https://localhost:8080/",
     "height": 287
    },
    "colab_type": "code",
    "id": "qXBM71Bo1UPc",
    "outputId": "9f32237b-eb29-4355-a0a3-96163c2360c5"
   },
   "outputs": [],
   "source": [
    "#Select the same class explained on the figures above.\n",
    "ind =  explanation.top_labels[0]\n",
    "\n",
    "#Map each explanation weight to the corresponding superpixel\n",
    "dict_heatmap = dict(explanation.local_exp[ind])\n",
    "heatmap = np.vectorize(dict_heatmap.get)(explanation.segments) \n",
    "\n",
    "#Plot. The visualization makes more sense if a symmetrical colorbar is used.\n",
    "plt.imshow(heatmap, cmap = 'RdBu', vmin  = -heatmap.max(), vmax = heatmap.max())\n",
    "plt.colorbar()"
   ]
  },
  {
   "cell_type": "markdown",
   "metadata": {
    "colab_type": "text",
    "id": "YaQK8BZexwmG"
   },
   "source": [
    "### Let's see the explanation for the second highest prediction"
   ]
  },
  {
   "cell_type": "markdown",
   "metadata": {
    "colab_type": "text",
    "id": "ClAt2PowxwmH"
   },
   "source": [
    "Most positive towards wombat:"
   ]
  },
  {
   "cell_type": "code",
   "execution_count": null,
   "metadata": {
    "colab": {
     "base_uri": "https://localhost:8080/",
     "height": 287
    },
    "colab_type": "code",
    "id": "cROfKjUMxwmI",
    "outputId": "37bfe983-d4bc-45b2-bca2-964b91f1258f"
   },
   "outputs": [],
   "source": [
    "temp, mask = explanation.get_image_and_mask(106, positive_only=True, num_features=5, hide_rest=True)\n",
    "plt.imshow(mark_boundaries(temp / 2 + 0.5, mask))"
   ]
  },
  {
   "cell_type": "markdown",
   "metadata": {
    "colab_type": "text",
    "id": "Z2MSbZ6kxwmP"
   },
   "source": [
    "Pros and cons:"
   ]
  },
  {
   "cell_type": "code",
   "execution_count": null,
   "metadata": {
    "colab": {
     "base_uri": "https://localhost:8080/",
     "height": 287
    },
    "colab_type": "code",
    "id": "6HmKJVr1xwmR",
    "outputId": "7d369717-cefc-461d-d01f-49389dddd177"
   },
   "outputs": [],
   "source": [
    "temp, mask = explanation.get_image_and_mask(106, positive_only=False, num_features=10, hide_rest=False)\n",
    "plt.imshow(mark_boundaries(temp / 2 + 0.5, mask))\n"
   ]
  },
  {
   "cell_type": "code",
   "execution_count": null,
   "metadata": {
    "colab": {},
    "colab_type": "code",
    "id": "g1y8r9Sj0uDD"
   },
   "outputs": [],
   "source": []
  }
 ],
 "metadata": {
  "colab": {
   "name": "Tutorial - Image Classification Keras.ipynb",
   "provenance": [],
   "toc_visible": true
  },
  "interpreter": {
   "hash": "9ff30663fd9da0f259b13bae2fe3cde877216f0b12e782a9555146f44a25d82a"
  },
  "kernelspec": {
   "display_name": "Python 3.7.13 ('workflowone')",
   "language": "python",
   "name": "python3"
  },
  "language_info": {
   "codemirror_mode": {
    "name": "ipython",
    "version": 3
   },
   "file_extension": ".py",
   "mimetype": "text/x-python",
   "name": "python",
   "nbconvert_exporter": "python",
   "pygments_lexer": "ipython3",
   "version": "3.7.13"
  },
  "widgets": {
   "application/vnd.jupyter.widget-state+json": {
    "059e79101bc04a6dac3d6c8065d5f960": {
     "model_module": "@jupyter-widgets/controls",
     "model_name": "DescriptionStyleModel",
     "state": {
      "_model_module": "@jupyter-widgets/controls",
      "_model_module_version": "1.5.0",
      "_model_name": "DescriptionStyleModel",
      "_view_count": null,
      "_view_module": "@jupyter-widgets/base",
      "_view_module_version": "1.2.0",
      "_view_name": "StyleView",
      "description_width": ""
     }
    },
    "17bb7656e07842dda40e13da228550c8": {
     "model_module": "@jupyter-widgets/base",
     "model_name": "LayoutModel",
     "state": {
      "_model_module": "@jupyter-widgets/base",
      "_model_module_version": "1.2.0",
      "_model_name": "LayoutModel",
      "_view_count": null,
      "_view_module": "@jupyter-widgets/base",
      "_view_module_version": "1.2.0",
      "_view_name": "LayoutView",
      "align_content": null,
      "align_items": null,
      "align_self": null,
      "border": null,
      "bottom": null,
      "display": null,
      "flex": null,
      "flex_flow": null,
      "grid_area": null,
      "grid_auto_columns": null,
      "grid_auto_flow": null,
      "grid_auto_rows": null,
      "grid_column": null,
      "grid_gap": null,
      "grid_row": null,
      "grid_template_areas": null,
      "grid_template_columns": null,
      "grid_template_rows": null,
      "height": null,
      "justify_content": null,
      "justify_items": null,
      "left": null,
      "margin": null,
      "max_height": null,
      "max_width": null,
      "min_height": null,
      "min_width": null,
      "object_fit": null,
      "object_position": null,
      "order": null,
      "overflow": null,
      "overflow_x": null,
      "overflow_y": null,
      "padding": null,
      "right": null,
      "top": null,
      "visibility": null,
      "width": null
     }
    },
    "1fb1b32b563b4cf2bc565e4f150d5886": {
     "model_module": "@jupyter-widgets/controls",
     "model_name": "HBoxModel",
     "state": {
      "_dom_classes": [],
      "_model_module": "@jupyter-widgets/controls",
      "_model_module_version": "1.5.0",
      "_model_name": "HBoxModel",
      "_view_count": null,
      "_view_module": "@jupyter-widgets/controls",
      "_view_module_version": "1.5.0",
      "_view_name": "HBoxView",
      "box_style": "",
      "children": [
       "IPY_MODEL_3b0b05ed4a1e4a7492bad6d208b005a1",
       "IPY_MODEL_30f68d0a496d4e97a5f9e59b6fce9f5e"
      ],
      "layout": "IPY_MODEL_17bb7656e07842dda40e13da228550c8"
     }
    },
    "30f68d0a496d4e97a5f9e59b6fce9f5e": {
     "model_module": "@jupyter-widgets/controls",
     "model_name": "HTMLModel",
     "state": {
      "_dom_classes": [],
      "_model_module": "@jupyter-widgets/controls",
      "_model_module_version": "1.5.0",
      "_model_name": "HTMLModel",
      "_view_count": null,
      "_view_module": "@jupyter-widgets/controls",
      "_view_module_version": "1.5.0",
      "_view_name": "HTMLView",
      "description": "",
      "description_tooltip": null,
      "layout": "IPY_MODEL_e8a5f1d84d784fe7b75b1b965aec3fb8",
      "placeholder": "​",
      "style": "IPY_MODEL_059e79101bc04a6dac3d6c8065d5f960",
      "value": " 1000/1000 [04:22&lt;00:00,  3.81it/s]"
     }
    },
    "3b0b05ed4a1e4a7492bad6d208b005a1": {
     "model_module": "@jupyter-widgets/controls",
     "model_name": "FloatProgressModel",
     "state": {
      "_dom_classes": [],
      "_model_module": "@jupyter-widgets/controls",
      "_model_module_version": "1.5.0",
      "_model_name": "FloatProgressModel",
      "_view_count": null,
      "_view_module": "@jupyter-widgets/controls",
      "_view_module_version": "1.5.0",
      "_view_name": "ProgressView",
      "bar_style": "success",
      "description": "100%",
      "description_tooltip": null,
      "layout": "IPY_MODEL_f7d2484df9f24bceafc1910e361bc03f",
      "max": 1000,
      "min": 0,
      "orientation": "horizontal",
      "style": "IPY_MODEL_bfe238fe53be4860b53021934755f0b1",
      "value": 1000
     }
    },
    "bfe238fe53be4860b53021934755f0b1": {
     "model_module": "@jupyter-widgets/controls",
     "model_name": "ProgressStyleModel",
     "state": {
      "_model_module": "@jupyter-widgets/controls",
      "_model_module_version": "1.5.0",
      "_model_name": "ProgressStyleModel",
      "_view_count": null,
      "_view_module": "@jupyter-widgets/base",
      "_view_module_version": "1.2.0",
      "_view_name": "StyleView",
      "bar_color": null,
      "description_width": "initial"
     }
    },
    "e8a5f1d84d784fe7b75b1b965aec3fb8": {
     "model_module": "@jupyter-widgets/base",
     "model_name": "LayoutModel",
     "state": {
      "_model_module": "@jupyter-widgets/base",
      "_model_module_version": "1.2.0",
      "_model_name": "LayoutModel",
      "_view_count": null,
      "_view_module": "@jupyter-widgets/base",
      "_view_module_version": "1.2.0",
      "_view_name": "LayoutView",
      "align_content": null,
      "align_items": null,
      "align_self": null,
      "border": null,
      "bottom": null,
      "display": null,
      "flex": null,
      "flex_flow": null,
      "grid_area": null,
      "grid_auto_columns": null,
      "grid_auto_flow": null,
      "grid_auto_rows": null,
      "grid_column": null,
      "grid_gap": null,
      "grid_row": null,
      "grid_template_areas": null,
      "grid_template_columns": null,
      "grid_template_rows": null,
      "height": null,
      "justify_content": null,
      "justify_items": null,
      "left": null,
      "margin": null,
      "max_height": null,
      "max_width": null,
      "min_height": null,
      "min_width": null,
      "object_fit": null,
      "object_position": null,
      "order": null,
      "overflow": null,
      "overflow_x": null,
      "overflow_y": null,
      "padding": null,
      "right": null,
      "top": null,
      "visibility": null,
      "width": null
     }
    },
    "f7d2484df9f24bceafc1910e361bc03f": {
     "model_module": "@jupyter-widgets/base",
     "model_name": "LayoutModel",
     "state": {
      "_model_module": "@jupyter-widgets/base",
      "_model_module_version": "1.2.0",
      "_model_name": "LayoutModel",
      "_view_count": null,
      "_view_module": "@jupyter-widgets/base",
      "_view_module_version": "1.2.0",
      "_view_name": "LayoutView",
      "align_content": null,
      "align_items": null,
      "align_self": null,
      "border": null,
      "bottom": null,
      "display": null,
      "flex": null,
      "flex_flow": null,
      "grid_area": null,
      "grid_auto_columns": null,
      "grid_auto_flow": null,
      "grid_auto_rows": null,
      "grid_column": null,
      "grid_gap": null,
      "grid_row": null,
      "grid_template_areas": null,
      "grid_template_columns": null,
      "grid_template_rows": null,
      "height": null,
      "justify_content": null,
      "justify_items": null,
      "left": null,
      "margin": null,
      "max_height": null,
      "max_width": null,
      "min_height": null,
      "min_width": null,
      "object_fit": null,
      "object_position": null,
      "order": null,
      "overflow": null,
      "overflow_x": null,
      "overflow_y": null,
      "padding": null,
      "right": null,
      "top": null,
      "visibility": null,
      "width": null
     }
    }
   }
  }
 },
 "nbformat": 4,
 "nbformat_minor": 1
}
